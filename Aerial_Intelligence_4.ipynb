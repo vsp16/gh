{
 "cells": [
  {
   "cell_type": "markdown",
   "metadata": {},
   "source": [
    "# Summary"
   ]
  },
  {
   "cell_type": "markdown",
   "metadata": {},
   "source": [
    "The two data sets contain information about yield of wheat in a subset of US counties. In addition, the data sets contain relevant information about meteorological conditions throughout the season, as well as daily observations of the vegetation index. The task is to build a model that can be used to predict the yield, given all the information in the data set.\n",
    "\n",
    "Within each county there are several farms for which the information is given. Predicted values for different farms within a given county need to be averaged to predict yield for the particular county.\n",
    "\n",
    "My approach was as follows:\n",
    "* 1) Explore and clean the data set. Check for missing values, outliers, anything else unexpected that could skew the fit.\n",
    "* 2) Summarize time-dependent data via several time-independent variables. I started with the average value, maximum, minimum, spread (standard deviation). After we talked on Monday I also added x^2 and sqrt(x), for possible nonlinearities and I derived two new variables: last day of frost and length of drought. I did not spend much time optimizing these two, there is certainly room for improvement.\n",
    "* 3) Reduce the dimensionality. Using PCA I reduced the dimensionality of the data set but this worsened the fit. I left the dimensionality reduction in the write-up but ended up not using it for the final fit. The fit uses regularization so overfitting due to a large number of variables is not an issue.\n",
    "* 4) Get the fit parameters. I used the 2014 data to get the fit parameters. The data set was split 80/20 to tune the regularization parameter alpha. Once alpha has been found, all 2014 data was used with this parameter to get the regression coefficients. These coefficients were then used to make a prediction for the 2013 data. I tested several models and ended up using Ridge regression.\n",
    "* 5) Explore the errors. I observed that there is some spatial dependence on the errors. This can indicate an influence of variables that are not in the data set, such as soil quality.\n",
    "\n",
    "The ways to improve the fit would be:\n",
    " - Similar to last frost and drought length derive more variables based on knowledge of the crop/variable interaction.\n",
    " - Improve the way last frost and drought length are measured. For example for drought length I counted the number of zero-precipitation days. An alternative approach would be to use the longest temporal window in which the cummulative precipitation ammount is smaller than some specified value.\n",
    " - We talked about NDVI on Monday. I ended up using all the NDVI information, but a sliding window can be used to find the peak or the region that best correlates with the yield.\n",
    " - Add soil information and explore what other relevant variables could be added.\n",
    " - In absence of soil data, the data set can be split into two clusters based on longitude/latitude and one can do separate fits for these two clusters.\n",
    " - If data for more years were available this would improve the fit parameters. In other words, we are basing the fit on 2014 but this year could have been an outlier when compared to many other years."
   ]
  },
  {
   "cell_type": "code",
   "execution_count": 1,
   "metadata": {
    "collapsed": true
   },
   "outputs": [],
   "source": [
    "import os\n",
    "import pandas as pd\n",
    "import numpy as np\n",
    "import matplotlib.pyplot as plt\n",
    "%matplotlib inline\n",
    "from sklearn.cross_validation import train_test_split\n",
    "from sklearn.linear_model import Ridge\n",
    "from sklearn.linear_model import RidgeCV\n",
    "from sklearn.linear_model import Lasso\n",
    "pd.options.mode.chained_assignment = None  # default='warn'"
   ]
  },
  {
   "cell_type": "code",
   "execution_count": 2,
   "metadata": {
    "collapsed": false
   },
   "outputs": [],
   "source": [
    "os.chdir('/Users/petrovic/Desktop/Data_Science/AerialIntelligence')"
   ]
  },
  {
   "cell_type": "code",
   "execution_count": 3,
   "metadata": {
    "collapsed": false
   },
   "outputs": [],
   "source": [
    "data_13 = pd.read_csv('wheat-2013-supervised.csv')\n",
    "data_14 = pd.read_csv('wheat-2014-supervised.csv')"
   ]
  },
  {
   "cell_type": "markdown",
   "metadata": {},
   "source": [
    "# Data Exploration and Cleaning"
   ]
  },
  {
   "cell_type": "code",
   "execution_count": 4,
   "metadata": {
    "collapsed": false
   },
   "outputs": [
    {
     "name": "stdout",
     "output_type": "stream",
     "text": [
      "(177493, 26)\n",
      "(182549, 26)\n"
     ]
    }
   ],
   "source": [
    "dfs0 = [data_13, data_14]\n",
    "for dataframe in dfs0:\n",
    "    print dataframe.shape"
   ]
  },
  {
   "cell_type": "code",
   "execution_count": 5,
   "metadata": {
    "collapsed": false
   },
   "outputs": [
    {
     "data": {
      "text/html": [
       "<div>\n",
       "<table border=\"1\" class=\"dataframe\">\n",
       "  <thead>\n",
       "    <tr style=\"text-align: right;\">\n",
       "      <th></th>\n",
       "      <th>CountyName</th>\n",
       "      <th>State</th>\n",
       "      <th>Latitude</th>\n",
       "      <th>Longitude</th>\n",
       "      <th>Date</th>\n",
       "      <th>apparentTemperatureMax</th>\n",
       "      <th>apparentTemperatureMin</th>\n",
       "      <th>cloudCover</th>\n",
       "      <th>dewPoint</th>\n",
       "      <th>humidity</th>\n",
       "      <th>...</th>\n",
       "      <th>precipTypeIsOther</th>\n",
       "      <th>pressure</th>\n",
       "      <th>temperatureMax</th>\n",
       "      <th>temperatureMin</th>\n",
       "      <th>visibility</th>\n",
       "      <th>windBearing</th>\n",
       "      <th>windSpeed</th>\n",
       "      <th>NDVI</th>\n",
       "      <th>DayInSeason</th>\n",
       "      <th>Yield</th>\n",
       "    </tr>\n",
       "  </thead>\n",
       "  <tbody>\n",
       "    <tr>\n",
       "      <th>0</th>\n",
       "      <td>Adams</td>\n",
       "      <td>Washington</td>\n",
       "      <td>46.929839</td>\n",
       "      <td>-118.352109</td>\n",
       "      <td>11/30/2014 0:00</td>\n",
       "      <td>18.61</td>\n",
       "      <td>-3.01</td>\n",
       "      <td>0.00</td>\n",
       "      <td>6.77</td>\n",
       "      <td>0.69</td>\n",
       "      <td>...</td>\n",
       "      <td>0</td>\n",
       "      <td>1027.95</td>\n",
       "      <td>23.93</td>\n",
       "      <td>6.96</td>\n",
       "      <td>10.00</td>\n",
       "      <td>9</td>\n",
       "      <td>3.80</td>\n",
       "      <td>136.179718</td>\n",
       "      <td>0</td>\n",
       "      <td>35.6</td>\n",
       "    </tr>\n",
       "    <tr>\n",
       "      <th>1</th>\n",
       "      <td>Adams</td>\n",
       "      <td>Washington</td>\n",
       "      <td>47.150327</td>\n",
       "      <td>-118.958859</td>\n",
       "      <td>11/30/2014 0:00</td>\n",
       "      <td>19.67</td>\n",
       "      <td>-0.74</td>\n",
       "      <td>0.00</td>\n",
       "      <td>6.66</td>\n",
       "      <td>0.65</td>\n",
       "      <td>...</td>\n",
       "      <td>0</td>\n",
       "      <td>1028.26</td>\n",
       "      <td>25.88</td>\n",
       "      <td>8.71</td>\n",
       "      <td>10.00</td>\n",
       "      <td>352</td>\n",
       "      <td>6.03</td>\n",
       "      <td>135.697540</td>\n",
       "      <td>0</td>\n",
       "      <td>35.6</td>\n",
       "    </tr>\n",
       "    <tr>\n",
       "      <th>2</th>\n",
       "      <td>Adams</td>\n",
       "      <td>Washington</td>\n",
       "      <td>46.811686</td>\n",
       "      <td>-118.695237</td>\n",
       "      <td>11/30/2014 0:00</td>\n",
       "      <td>20.66</td>\n",
       "      <td>-0.14</td>\n",
       "      <td>0.00</td>\n",
       "      <td>6.55</td>\n",
       "      <td>0.67</td>\n",
       "      <td>...</td>\n",
       "      <td>0</td>\n",
       "      <td>1028.29</td>\n",
       "      <td>24.67</td>\n",
       "      <td>8.26</td>\n",
       "      <td>10.00</td>\n",
       "      <td>25</td>\n",
       "      <td>3.59</td>\n",
       "      <td>135.676956</td>\n",
       "      <td>0</td>\n",
       "      <td>35.6</td>\n",
       "    </tr>\n",
       "    <tr>\n",
       "      <th>3</th>\n",
       "      <td>Adams</td>\n",
       "      <td>Washington</td>\n",
       "      <td>47.162342</td>\n",
       "      <td>-118.699677</td>\n",
       "      <td>11/30/2014 0:00</td>\n",
       "      <td>19.69</td>\n",
       "      <td>-2.66</td>\n",
       "      <td>0.03</td>\n",
       "      <td>7.32</td>\n",
       "      <td>0.69</td>\n",
       "      <td>...</td>\n",
       "      <td>0</td>\n",
       "      <td>1027.74</td>\n",
       "      <td>25.48</td>\n",
       "      <td>8.10</td>\n",
       "      <td>10.00</td>\n",
       "      <td>1</td>\n",
       "      <td>5.18</td>\n",
       "      <td>135.005798</td>\n",
       "      <td>0</td>\n",
       "      <td>35.6</td>\n",
       "    </tr>\n",
       "    <tr>\n",
       "      <th>4</th>\n",
       "      <td>Adams</td>\n",
       "      <td>Washington</td>\n",
       "      <td>47.157512</td>\n",
       "      <td>-118.434056</td>\n",
       "      <td>11/30/2014 0:00</td>\n",
       "      <td>18.82</td>\n",
       "      <td>-3.04</td>\n",
       "      <td>0.04</td>\n",
       "      <td>7.62</td>\n",
       "      <td>0.70</td>\n",
       "      <td>...</td>\n",
       "      <td>0</td>\n",
       "      <td>1027.16</td>\n",
       "      <td>24.83</td>\n",
       "      <td>8.32</td>\n",
       "      <td>9.99</td>\n",
       "      <td>5</td>\n",
       "      <td>4.69</td>\n",
       "      <td>134.803864</td>\n",
       "      <td>0</td>\n",
       "      <td>35.6</td>\n",
       "    </tr>\n",
       "  </tbody>\n",
       "</table>\n",
       "<p>5 rows × 26 columns</p>\n",
       "</div>"
      ],
      "text/plain": [
       "  CountyName       State   Latitude   Longitude             Date  \\\n",
       "0      Adams  Washington  46.929839 -118.352109  11/30/2014 0:00   \n",
       "1      Adams  Washington  47.150327 -118.958859  11/30/2014 0:00   \n",
       "2      Adams  Washington  46.811686 -118.695237  11/30/2014 0:00   \n",
       "3      Adams  Washington  47.162342 -118.699677  11/30/2014 0:00   \n",
       "4      Adams  Washington  47.157512 -118.434056  11/30/2014 0:00   \n",
       "\n",
       "   apparentTemperatureMax  apparentTemperatureMin  cloudCover  dewPoint  \\\n",
       "0                   18.61                   -3.01        0.00      6.77   \n",
       "1                   19.67                   -0.74        0.00      6.66   \n",
       "2                   20.66                   -0.14        0.00      6.55   \n",
       "3                   19.69                   -2.66        0.03      7.32   \n",
       "4                   18.82                   -3.04        0.04      7.62   \n",
       "\n",
       "   humidity  ...    precipTypeIsOther  pressure  temperatureMax  \\\n",
       "0      0.69  ...                    0   1027.95           23.93   \n",
       "1      0.65  ...                    0   1028.26           25.88   \n",
       "2      0.67  ...                    0   1028.29           24.67   \n",
       "3      0.69  ...                    0   1027.74           25.48   \n",
       "4      0.70  ...                    0   1027.16           24.83   \n",
       "\n",
       "   temperatureMin  visibility  windBearing  windSpeed        NDVI  \\\n",
       "0            6.96       10.00            9       3.80  136.179718   \n",
       "1            8.71       10.00          352       6.03  135.697540   \n",
       "2            8.26       10.00           25       3.59  135.676956   \n",
       "3            8.10       10.00            1       5.18  135.005798   \n",
       "4            8.32        9.99            5       4.69  134.803864   \n",
       "\n",
       "   DayInSeason  Yield  \n",
       "0            0   35.6  \n",
       "1            0   35.6  \n",
       "2            0   35.6  \n",
       "3            0   35.6  \n",
       "4            0   35.6  \n",
       "\n",
       "[5 rows x 26 columns]"
      ]
     },
     "execution_count": 5,
     "metadata": {},
     "output_type": "execute_result"
    }
   ],
   "source": [
    "data_14.head()"
   ]
  },
  {
   "cell_type": "code",
   "execution_count": 6,
   "metadata": {
    "collapsed": false
   },
   "outputs": [
    {
     "name": "stdout",
     "output_type": "stream",
     "text": [
      "150\n",
      "156\n"
     ]
    }
   ],
   "source": [
    "for dataframe in dfs0:\n",
    "    print len(dataframe['CountyName'].unique())"
   ]
  },
  {
   "cell_type": "markdown",
   "metadata": {},
   "source": [
    "The data seems to contain some (but not all) counties and the number of different counties differs between the two sets. This should be kept in mind for potential future global fitting (that would combine the two data sets)."
   ]
  },
  {
   "cell_type": "markdown",
   "metadata": {},
   "source": [
    "What are the variables? "
   ]
  },
  {
   "cell_type": "code",
   "execution_count": 7,
   "metadata": {
    "collapsed": false
   },
   "outputs": [
    {
     "data": {
      "text/plain": [
       "['CountyName',\n",
       " 'State',\n",
       " 'Latitude',\n",
       " 'Longitude',\n",
       " 'Date',\n",
       " 'apparentTemperatureMax',\n",
       " 'apparentTemperatureMin',\n",
       " 'cloudCover',\n",
       " 'dewPoint',\n",
       " 'humidity',\n",
       " 'precipIntensity',\n",
       " 'precipIntensityMax',\n",
       " 'precipProbability',\n",
       " 'precipAccumulation',\n",
       " 'precipTypeIsRain',\n",
       " 'precipTypeIsSnow',\n",
       " 'precipTypeIsOther',\n",
       " 'pressure',\n",
       " 'temperatureMax',\n",
       " 'temperatureMin',\n",
       " 'visibility',\n",
       " 'windBearing',\n",
       " 'windSpeed',\n",
       " 'NDVI',\n",
       " 'DayInSeason',\n",
       " 'Yield']"
      ]
     },
     "execution_count": 7,
     "metadata": {},
     "output_type": "execute_result"
    }
   ],
   "source": [
    "list(data_14.columns.values)"
   ]
  },
  {
   "cell_type": "markdown",
   "metadata": {},
   "source": [
    "### Label individual farms"
   ]
  },
  {
   "cell_type": "markdown",
   "metadata": {},
   "source": [
    "I will make an assumption that unique combinations of longitude and latitude correspond to individual farms. Then I will look at time-dependent data for each farm before combining the data for different farms in a given county. "
   ]
  },
  {
   "cell_type": "code",
   "execution_count": 8,
   "metadata": {
    "collapsed": false
   },
   "outputs": [
    {
     "name": "stdout",
     "output_type": "stream",
     "text": [
      "1014\n",
      "1014\n",
      "1014\n",
      "1035\n",
      "1035\n",
      "1035\n"
     ]
    }
   ],
   "source": [
    "for dataframe in dfs0:\n",
    "    print len(dataframe.groupby(['Longitude','Latitude']).count())\n",
    "    print len(dataframe.groupby(['Longitude']).count())\n",
    "    print len(dataframe.groupby(['Latitude']).count())"
   ]
  },
  {
   "cell_type": "markdown",
   "metadata": {},
   "source": [
    "The number of unique combinations of longitude and latitude is equal to the number of unique values for longitude which is equal to the number of unique values for latitude. That means that either longitude or latitude can be used to refer to a particular farm. This holds for both data sets. However, it is easier refer to the farms by simpler labels so I will map longitude onto an array of numbers (to denote farm 1, farm 2, etc.). Before doing that I will check if same labels can be used for farms in both data sets (this will make combining the data from the two sets easier in the future, if needed). "
   ]
  },
  {
   "cell_type": "code",
   "execution_count": 9,
   "metadata": {
    "collapsed": false
   },
   "outputs": [
    {
     "name": "stdout",
     "output_type": "stream",
     "text": [
      "1167\n"
     ]
    }
   ],
   "source": [
    "print len(list(set(np.unique(data_14['Latitude'])) | set((np.unique(data_13['Latitude'])))))"
   ]
  },
  {
   "cell_type": "markdown",
   "metadata": {},
   "source": [
    "So most of the farms appear in both data sets, but not all."
   ]
  },
  {
   "cell_type": "code",
   "execution_count": 10,
   "metadata": {
    "collapsed": true
   },
   "outputs": [],
   "source": [
    "farm_label = dict(zip(list(set(np.unique(data_14['Latitude'])) | set((np.unique(data_13['Latitude'])))), range(1167)))"
   ]
  },
  {
   "cell_type": "code",
   "execution_count": 11,
   "metadata": {
    "collapsed": true
   },
   "outputs": [],
   "source": [
    "for dataframe in dfs0:\n",
    "    dataframe['Farm_label'] = dataframe['Latitude'].map(farm_label)"
   ]
  },
  {
   "cell_type": "markdown",
   "metadata": {},
   "source": [
    "### Missing temporal data"
   ]
  },
  {
   "cell_type": "markdown",
   "metadata": {},
   "source": [
    "Most of the farms have information for 186 consecutive days. In some cases that number is lower. Let's look into the cases of missing data closer:"
   ]
  },
  {
   "cell_type": "code",
   "execution_count": 12,
   "metadata": {
    "collapsed": false
   },
   "outputs": [
    {
     "data": {
      "image/png": "[encoded data removed]",
      "text/plain": [
       "<matplotlib.figure.Figure at 0x1080b92d0>"
      ]
     },
     "metadata": {},
     "output_type": "display_data"
    }
   ],
   "source": [
    "plt.figure();\n",
    "data_14.groupby(['Farm_label'])[['DayInSeason']].count().unstack().hist(bins = 50);\n",
    "plt.xlabel('Number of days for which data is available');\n",
    "plt.ylabel('Count');"
   ]
  },
  {
   "cell_type": "markdown",
   "metadata": {},
   "source": [
    "The cases of missing data for some days in season fall into two categories:\n",
    "* 1) most of the data is there but a few values are missing (>=153/186 values exist). \n",
    "* 2) most of the data is missing and only few values are there (<=14/186 values exist).\n",
    "\n",
    "This holds for data_13 as well (not shown here).\n",
    "\n",
    "In case of 1) I will still proceed with averaging and other characterizations of time series. The farms in case 2) will be discarded here. If there is more time I will come back to this subset."
   ]
  },
  {
   "cell_type": "markdown",
   "metadata": {},
   "source": [
    "Let's make the list of farms that have almost no data (category 2) and then remove those farms from the data set:"
   ]
  },
  {
   "cell_type": "code",
   "execution_count": 13,
   "metadata": {
    "collapsed": false
   },
   "outputs": [],
   "source": [
    "cou = 0\n",
    "for dataframe in dfs0:\n",
    "    cou += 1\n",
    "    remove_list = []\n",
    "    for i in xrange(len(np.unique(dataframe['Farm_label']))):\n",
    "        if dataframe.groupby(['Farm_label'])[['DayInSeason']].count().unstack()[i] < 153:\n",
    "            remove_list.append(np.unique(dataframe['Farm_label'])[i])  \n",
    "    if cou == 1:\n",
    "        data_13_cleaned =  dataframe.loc[dataframe['Farm_label'].isin(list(set(np.unique(dataframe['Farm_label'])) - set(remove_list)))]\n",
    "    if cou == 2:\n",
    "        data_14_cleaned =  dataframe.loc[dataframe['Farm_label'].isin(list(set(np.unique(dataframe['Farm_label'])) - set(remove_list)))]"
   ]
  },
  {
   "cell_type": "markdown",
   "metadata": {},
   "source": [
    "### Missing pressure/visibility data"
   ]
  },
  {
   "cell_type": "markdown",
   "metadata": {},
   "source": [
    "Removing these farms removed some of the nan values but some still remain, in the 'pressure' column in 2014 data and 'visibility' in 2013 data:"
   ]
  },
  {
   "cell_type": "code",
   "execution_count": 14,
   "metadata": {
    "collapsed": false
   },
   "outputs": [
    {
     "name": "stdout",
     "output_type": "stream",
     "text": [
      "14    pressure\n",
      "13    visibility\n"
     ]
    }
   ],
   "source": [
    "dfs = [data_14_cleaned, data_13_cleaned]\n",
    "cou = 14\n",
    "for dataframe in dfs: \n",
    "    for i in xrange(5, dataframe.shape[1]):\n",
    "        if np.any(np.isnan(dataframe[dataframe.columns.values[i]])):\n",
    "            print cou , '  ', dataframe.columns.values[i]\n",
    "    cou -= 1"
   ]
  },
  {
   "cell_type": "code",
   "execution_count": 15,
   "metadata": {
    "collapsed": false
   },
   "outputs": [
    {
     "data": {
      "text/html": [
       "<div>\n",
       "<table border=\"1\" class=\"dataframe\">\n",
       "  <thead>\n",
       "    <tr style=\"text-align: right;\">\n",
       "      <th></th>\n",
       "      <th>CountyName</th>\n",
       "      <th>State</th>\n",
       "      <th>Latitude</th>\n",
       "      <th>Longitude</th>\n",
       "      <th>Date</th>\n",
       "      <th>apparentTemperatureMax</th>\n",
       "      <th>apparentTemperatureMin</th>\n",
       "      <th>cloudCover</th>\n",
       "      <th>dewPoint</th>\n",
       "      <th>humidity</th>\n",
       "      <th>...</th>\n",
       "      <th>pressure</th>\n",
       "      <th>temperatureMax</th>\n",
       "      <th>temperatureMin</th>\n",
       "      <th>visibility</th>\n",
       "      <th>windBearing</th>\n",
       "      <th>windSpeed</th>\n",
       "      <th>NDVI</th>\n",
       "      <th>DayInSeason</th>\n",
       "      <th>Yield</th>\n",
       "      <th>Farm_label</th>\n",
       "    </tr>\n",
       "  </thead>\n",
       "  <tbody>\n",
       "    <tr>\n",
       "      <th>14695</th>\n",
       "      <td>Brown</td>\n",
       "      <td>Texas</td>\n",
       "      <td>31.664059</td>\n",
       "      <td>-99.067585</td>\n",
       "      <td>12/15/2014</td>\n",
       "      <td>64.11</td>\n",
       "      <td>40.94</td>\n",
       "      <td>0.01</td>\n",
       "      <td>37.02</td>\n",
       "      <td>0.58</td>\n",
       "      <td>...</td>\n",
       "      <td>NaN</td>\n",
       "      <td>64.11</td>\n",
       "      <td>42.27</td>\n",
       "      <td>9.78</td>\n",
       "      <td>287</td>\n",
       "      <td>6.08</td>\n",
       "      <td>182.0</td>\n",
       "      <td>15</td>\n",
       "      <td>21.4</td>\n",
       "      <td>805</td>\n",
       "    </tr>\n",
       "    <tr>\n",
       "      <th>14699</th>\n",
       "      <td>Brown</td>\n",
       "      <td>Texas</td>\n",
       "      <td>32.048901</td>\n",
       "      <td>-98.974918</td>\n",
       "      <td>12/15/2014</td>\n",
       "      <td>64.00</td>\n",
       "      <td>42.85</td>\n",
       "      <td>0.01</td>\n",
       "      <td>35.97</td>\n",
       "      <td>0.53</td>\n",
       "      <td>...</td>\n",
       "      <td>NaN</td>\n",
       "      <td>64.00</td>\n",
       "      <td>42.85</td>\n",
       "      <td>9.59</td>\n",
       "      <td>288</td>\n",
       "      <td>6.48</td>\n",
       "      <td>144.0</td>\n",
       "      <td>15</td>\n",
       "      <td>21.4</td>\n",
       "      <td>696</td>\n",
       "    </tr>\n",
       "    <tr>\n",
       "      <th>14836</th>\n",
       "      <td>Coleman</td>\n",
       "      <td>Texas</td>\n",
       "      <td>31.548743</td>\n",
       "      <td>-99.512672</td>\n",
       "      <td>12/15/2014</td>\n",
       "      <td>64.47</td>\n",
       "      <td>40.28</td>\n",
       "      <td>0.00</td>\n",
       "      <td>36.17</td>\n",
       "      <td>0.57</td>\n",
       "      <td>...</td>\n",
       "      <td>NaN</td>\n",
       "      <td>64.47</td>\n",
       "      <td>43.11</td>\n",
       "      <td>9.51</td>\n",
       "      <td>288</td>\n",
       "      <td>6.40</td>\n",
       "      <td>145.0</td>\n",
       "      <td>15</td>\n",
       "      <td>22.3</td>\n",
       "      <td>125</td>\n",
       "    </tr>\n",
       "    <tr>\n",
       "      <th>14870</th>\n",
       "      <td>Comanche</td>\n",
       "      <td>Texas</td>\n",
       "      <td>32.071690</td>\n",
       "      <td>-98.910118</td>\n",
       "      <td>12/15/2014</td>\n",
       "      <td>64.00</td>\n",
       "      <td>43.19</td>\n",
       "      <td>0.00</td>\n",
       "      <td>35.98</td>\n",
       "      <td>0.53</td>\n",
       "      <td>...</td>\n",
       "      <td>NaN</td>\n",
       "      <td>64.00</td>\n",
       "      <td>43.19</td>\n",
       "      <td>9.58</td>\n",
       "      <td>288</td>\n",
       "      <td>6.57</td>\n",
       "      <td>172.0</td>\n",
       "      <td>15</td>\n",
       "      <td>30.3</td>\n",
       "      <td>835</td>\n",
       "    </tr>\n",
       "    <tr>\n",
       "      <th>14996</th>\n",
       "      <td>Eastland</td>\n",
       "      <td>Texas</td>\n",
       "      <td>32.380429</td>\n",
       "      <td>-98.802767</td>\n",
       "      <td>12/15/2014</td>\n",
       "      <td>64.00</td>\n",
       "      <td>43.08</td>\n",
       "      <td>0.00</td>\n",
       "      <td>34.46</td>\n",
       "      <td>0.49</td>\n",
       "      <td>...</td>\n",
       "      <td>NaN</td>\n",
       "      <td>64.00</td>\n",
       "      <td>43.08</td>\n",
       "      <td>9.09</td>\n",
       "      <td>289</td>\n",
       "      <td>6.93</td>\n",
       "      <td>179.0</td>\n",
       "      <td>15</td>\n",
       "      <td>15.0</td>\n",
       "      <td>693</td>\n",
       "    </tr>\n",
       "    <tr>\n",
       "      <th>14999</th>\n",
       "      <td>Eastland</td>\n",
       "      <td>Texas</td>\n",
       "      <td>32.293155</td>\n",
       "      <td>-98.885376</td>\n",
       "      <td>12/15/2014</td>\n",
       "      <td>64.00</td>\n",
       "      <td>43.16</td>\n",
       "      <td>0.00</td>\n",
       "      <td>34.95</td>\n",
       "      <td>0.50</td>\n",
       "      <td>...</td>\n",
       "      <td>NaN</td>\n",
       "      <td>64.00</td>\n",
       "      <td>43.16</td>\n",
       "      <td>9.24</td>\n",
       "      <td>288</td>\n",
       "      <td>6.83</td>\n",
       "      <td>149.0</td>\n",
       "      <td>15</td>\n",
       "      <td>15.0</td>\n",
       "      <td>762</td>\n",
       "    </tr>\n",
       "    <tr>\n",
       "      <th>28386</th>\n",
       "      <td>Castro</td>\n",
       "      <td>Texas</td>\n",
       "      <td>34.399759</td>\n",
       "      <td>-102.234489</td>\n",
       "      <td>12/29/2014</td>\n",
       "      <td>55.00</td>\n",
       "      <td>16.62</td>\n",
       "      <td>0.00</td>\n",
       "      <td>15.85</td>\n",
       "      <td>0.44</td>\n",
       "      <td>...</td>\n",
       "      <td>NaN</td>\n",
       "      <td>55.00</td>\n",
       "      <td>24.57</td>\n",
       "      <td>10.00</td>\n",
       "      <td>334</td>\n",
       "      <td>4.91</td>\n",
       "      <td>145.0</td>\n",
       "      <td>29</td>\n",
       "      <td>33.2</td>\n",
       "      <td>943</td>\n",
       "    </tr>\n",
       "  </tbody>\n",
       "</table>\n",
       "<p>7 rows × 27 columns</p>\n",
       "</div>"
      ],
      "text/plain": [
       "      CountyName  State   Latitude   Longitude        Date  \\\n",
       "14695      Brown  Texas  31.664059  -99.067585  12/15/2014   \n",
       "14699      Brown  Texas  32.048901  -98.974918  12/15/2014   \n",
       "14836    Coleman  Texas  31.548743  -99.512672  12/15/2014   \n",
       "14870   Comanche  Texas  32.071690  -98.910118  12/15/2014   \n",
       "14996   Eastland  Texas  32.380429  -98.802767  12/15/2014   \n",
       "14999   Eastland  Texas  32.293155  -98.885376  12/15/2014   \n",
       "28386     Castro  Texas  34.399759 -102.234489  12/29/2014   \n",
       "\n",
       "       apparentTemperatureMax  apparentTemperatureMin  cloudCover  dewPoint  \\\n",
       "14695                   64.11                   40.94        0.01     37.02   \n",
       "14699                   64.00                   42.85        0.01     35.97   \n",
       "14836                   64.47                   40.28        0.00     36.17   \n",
       "14870                   64.00                   43.19        0.00     35.98   \n",
       "14996                   64.00                   43.08        0.00     34.46   \n",
       "14999                   64.00                   43.16        0.00     34.95   \n",
       "28386                   55.00                   16.62        0.00     15.85   \n",
       "\n",
       "       humidity     ...      pressure  temperatureMax  temperatureMin  \\\n",
       "14695      0.58     ...           NaN           64.11           42.27   \n",
       "14699      0.53     ...           NaN           64.00           42.85   \n",
       "14836      0.57     ...           NaN           64.47           43.11   \n",
       "14870      0.53     ...           NaN           64.00           43.19   \n",
       "14996      0.49     ...           NaN           64.00           43.08   \n",
       "14999      0.50     ...           NaN           64.00           43.16   \n",
       "28386      0.44     ...           NaN           55.00           24.57   \n",
       "\n",
       "       visibility  windBearing  windSpeed   NDVI  DayInSeason  Yield  \\\n",
       "14695        9.78          287       6.08  182.0           15   21.4   \n",
       "14699        9.59          288       6.48  144.0           15   21.4   \n",
       "14836        9.51          288       6.40  145.0           15   22.3   \n",
       "14870        9.58          288       6.57  172.0           15   30.3   \n",
       "14996        9.09          289       6.93  179.0           15   15.0   \n",
       "14999        9.24          288       6.83  149.0           15   15.0   \n",
       "28386       10.00          334       4.91  145.0           29   33.2   \n",
       "\n",
       "       Farm_label  \n",
       "14695         805  \n",
       "14699         696  \n",
       "14836         125  \n",
       "14870         835  \n",
       "14996         693  \n",
       "14999         762  \n",
       "28386         943  \n",
       "\n",
       "[7 rows x 27 columns]"
      ]
     },
     "execution_count": 15,
     "metadata": {},
     "output_type": "execute_result"
    }
   ],
   "source": [
    "data_14_cleaned[np.isnan(data_14_cleaned['pressure']) == True]"
   ]
  },
  {
   "cell_type": "code",
   "execution_count": 16,
   "metadata": {
    "collapsed": false
   },
   "outputs": [
    {
     "data": {
      "text/html": [
       "<div>\n",
       "<table border=\"1\" class=\"dataframe\">\n",
       "  <thead>\n",
       "    <tr style=\"text-align: right;\">\n",
       "      <th></th>\n",
       "      <th>CountyName</th>\n",
       "      <th>State</th>\n",
       "      <th>Latitude</th>\n",
       "      <th>Longitude</th>\n",
       "      <th>Date</th>\n",
       "      <th>apparentTemperatureMax</th>\n",
       "      <th>apparentTemperatureMin</th>\n",
       "      <th>cloudCover</th>\n",
       "      <th>dewPoint</th>\n",
       "      <th>humidity</th>\n",
       "      <th>...</th>\n",
       "      <th>pressure</th>\n",
       "      <th>temperatureMax</th>\n",
       "      <th>temperatureMin</th>\n",
       "      <th>visibility</th>\n",
       "      <th>windBearing</th>\n",
       "      <th>windSpeed</th>\n",
       "      <th>NDVI</th>\n",
       "      <th>DayInSeason</th>\n",
       "      <th>Yield</th>\n",
       "      <th>Farm_label</th>\n",
       "    </tr>\n",
       "  </thead>\n",
       "  <tbody>\n",
       "    <tr>\n",
       "      <th>1161</th>\n",
       "      <td>Cimarron</td>\n",
       "      <td>Oklahoma</td>\n",
       "      <td>36.644967</td>\n",
       "      <td>-102.389379</td>\n",
       "      <td>12/1/2013</td>\n",
       "      <td>60.48</td>\n",
       "      <td>29.71</td>\n",
       "      <td>0.0</td>\n",
       "      <td>24.12</td>\n",
       "      <td>0.48</td>\n",
       "      <td>...</td>\n",
       "      <td>1015.98</td>\n",
       "      <td>60.48</td>\n",
       "      <td>34.89</td>\n",
       "      <td>NaN</td>\n",
       "      <td>284</td>\n",
       "      <td>6.73</td>\n",
       "      <td>140.0</td>\n",
       "      <td>1</td>\n",
       "      <td>17.7</td>\n",
       "      <td>803</td>\n",
       "    </tr>\n",
       "  </tbody>\n",
       "</table>\n",
       "<p>1 rows × 27 columns</p>\n",
       "</div>"
      ],
      "text/plain": [
       "     CountyName     State   Latitude   Longitude       Date  \\\n",
       "1161   Cimarron  Oklahoma  36.644967 -102.389379  12/1/2013   \n",
       "\n",
       "      apparentTemperatureMax  apparentTemperatureMin  cloudCover  dewPoint  \\\n",
       "1161                   60.48                   29.71         0.0     24.12   \n",
       "\n",
       "      humidity     ...      pressure  temperatureMax  temperatureMin  \\\n",
       "1161      0.48     ...       1015.98           60.48           34.89   \n",
       "\n",
       "      visibility  windBearing  windSpeed   NDVI  DayInSeason  Yield  \\\n",
       "1161         NaN          284       6.73  140.0            1   17.7   \n",
       "\n",
       "      Farm_label  \n",
       "1161         803  \n",
       "\n",
       "[1 rows x 27 columns]"
      ]
     },
     "execution_count": 16,
     "metadata": {},
     "output_type": "execute_result"
    }
   ],
   "source": [
    "data_13_cleaned[np.isnan(data_13_cleaned['visibility']) == True]"
   ]
  },
  {
   "cell_type": "markdown",
   "metadata": {},
   "source": [
    "There are only seven missing values for pressure and only one missing value for visibility. I will replace them with averages for the given column (for now). This is the easiest/fastest solution (but leaves room for improvement). The proper way to take care of this would be to interpolate from the data for the neighboring farms on the given day, but I expect both pressure and visibility to have small influence on the yield and since very few points are missing, it probably makes a negligible difference which of these two ways to use for replacing the missing values. I may come back to this later to improve on, if there is time. "
   ]
  },
  {
   "cell_type": "code",
   "execution_count": 17,
   "metadata": {
    "collapsed": false
   },
   "outputs": [],
   "source": [
    "data_14_cleaned.loc[:,'pressure'] = data_14_cleaned['pressure'].fillna(data_14_cleaned['pressure'].mean());\n",
    "data_13_cleaned.loc[:,'visibility'] = data_13_cleaned['visibility'].fillna(data_13_cleaned['visibility'].mean());"
   ]
  },
  {
   "cell_type": "markdown",
   "metadata": {},
   "source": [
    "### Check for outliers"
   ]
  },
  {
   "cell_type": "code",
   "execution_count": 18,
   "metadata": {
    "collapsed": false
   },
   "outputs": [
    {
     "data": {
      "image/png": "[encoded data removed]",
      "text/plain": [
       "<matplotlib.figure.Figure at 0x10843bad0>"
      ]
     },
     "metadata": {},
     "output_type": "display_data"
    },
    {
     "data": {
      "image/png": "[encoded data removed]",
      "text/plain": [
       "<matplotlib.figure.Figure at 0x10ab95f10>"
      ]
     },
     "metadata": {},
     "output_type": "display_data"
    },
    {
     "data": {
      "image/png": "[encoded data removed]",
      "text/plain": [
       "<matplotlib.figure.Figure at 0x10bfdcd10>"
      ]
     },
     "metadata": {},
     "output_type": "display_data"
    },
    {
     "data": {
      "image/png": "[encoded data removed]",
      "text/plain": [
       "<matplotlib.figure.Figure at 0x10b241850>"
      ]
     },
     "metadata": {},
     "output_type": "display_data"
    },
    {
     "data": {
      "image/png": "[encoded data removed]",
      "text/plain": [
       "<matplotlib.figure.Figure at 0x10bfe4690>"
      ]
     },
     "metadata": {},
     "output_type": "display_data"
    },
    {
     "data": {
      "image/png": "[encoded data removed]",
      "text/plain": [
       "<matplotlib.figure.Figure at 0x10c06d610>"
      ]
     },
     "metadata": {},
     "output_type": "display_data"
    },
    {
     "data": {
      "image/png": "[encoded data removed]",
      "text/plain": [
       "<matplotlib.figure.Figure at 0x10f45ca50>"
      ]
     },
     "metadata": {},
     "output_type": "display_data"
    },
    {
     "data": {
      "image/png": "[encoded data removed]",
      "text/plain": [
       "<matplotlib.figure.Figure at 0x10fc1e690>"
      ]
     },
     "metadata": {},
     "output_type": "display_data"
    },
    {
     "data": {
      "image/png": "[encoded data removed]",
      "text/plain": [
       "<matplotlib.figure.Figure at 0x1159d99d0>"
      ]
     },
     "metadata": {},
     "output_type": "display_data"
    },
    {
     "data": {
      "image/png": "[encoded data removed]",
      "text/plain": [
       "<matplotlib.figure.Figure at 0x10fbb8b10>"
      ]
     },
     "metadata": {},
     "output_type": "display_data"
    },
    {
     "data": {
      "image/png": "[encoded data removed]",
      "text/plain": [
       "<matplotlib.figure.Figure at 0x10f46ff50>"
      ]
     },
     "metadata": {},
     "output_type": "display_data"
    },
    {
     "data": {
      "image/png": "[encoded data removed]",
      "text/plain": [
       "<matplotlib.figure.Figure at 0x10bd21450>"
      ]
     },
     "metadata": {},
     "output_type": "display_data"
    },
    {
     "data": {
      "image/png": "[encoded data removed]",
      "text/plain": [
       "<matplotlib.figure.Figure at 0x10c793f50>"
      ]
     },
     "metadata": {},
     "output_type": "display_data"
    },
    {
     "data": {
      "image/png": "[encoded data removed]",
      "text/plain": [
       "<matplotlib.figure.Figure at 0x11587cad0>"
      ]
     },
     "metadata": {},
     "output_type": "display_data"
    },
    {
     "data": {
      "image/png": "[encoded data removed]",
      "text/plain": [
       "<matplotlib.figure.Figure at 0x115f65510>"
      ]
     },
     "metadata": {},
     "output_type": "display_data"
    },
    {
     "data": {
      "image/png": "[encoded data removed]",
      "text/plain": [
       "<matplotlib.figure.Figure at 0x108844810>"
      ]
     },
     "metadata": {},
     "output_type": "display_data"
    },
    {
     "data": {
      "image/png": "[encoded data removed]",
      "text/plain": [
       "<matplotlib.figure.Figure at 0x10a670b10>"
      ]
     },
     "metadata": {},
     "output_type": "display_data"
    },
    {
     "data": {
      "image/png": "[encoded data removed]",
      "text/plain": [
       "<matplotlib.figure.Figure at 0x10a792390>"
      ]
     },
     "metadata": {},
     "output_type": "display_data"
    },
    {
     "data": {
      "image/png": "[encoded data removed]",
      "text/plain": [
       "<matplotlib.figure.Figure at 0x10be7c990>"
      ]
     },
     "metadata": {},
     "output_type": "display_data"
    },
    {
     "data": {
      "image/png": "[encoded data removed]",
      "text/plain": [
       "<matplotlib.figure.Figure at 0x10f3ac810>"
      ]
     },
     "metadata": {},
     "output_type": "display_data"
    },
    {
     "data": {
      "image/png": "[encoded data removed]",
      "text/plain": [
       "<matplotlib.figure.Figure at 0x1159a5550>"
      ]
     },
     "metadata": {},
     "output_type": "display_data"
    },
    {
     "data": {
      "image/png": "[encoded data removed]",
      "text/plain": [
       "<matplotlib.figure.Figure at 0x10a78ce10>"
      ]
     },
     "metadata": {},
     "output_type": "display_data"
    }
   ],
   "source": [
    "for i in xrange(5, data_14_cleaned.shape[1]):\n",
    "    plt.figure()\n",
    "    data_14_cleaned.ix[:,i].plot.hist(bins=50)\n",
    "    plt.title(data_14_cleaned.columns.values[i])\n",
    "    plt.xlabel('value')\n",
    "    plt.show()"
   ]
  },
  {
   "cell_type": "markdown",
   "metadata": {},
   "source": [
    "Similar was plotted for 2013 data (not shown here). There are some outliers in the pressure but they are not unphysical and could mean there was a tornado in that case. "
   ]
  },
  {
   "cell_type": "markdown",
   "metadata": {},
   "source": [
    "# Characterize time-dependent data"
   ]
  },
  {
   "cell_type": "markdown",
   "metadata": {},
   "source": [
    "I will create a new data frame to be passed to the fitting function. The data gets grouped by the farm label, and new (time-independent) variables are derived from the time dependent data, to be used in regression. I removed some columns that are not needed for fitting."
   ]
  },
  {
   "cell_type": "markdown",
   "metadata": {},
   "source": [
    "### Add new variables for precipitation."
   ]
  },
  {
   "cell_type": "markdown",
   "metadata": {},
   "source": [
    "After we spoke on Monday, I found the following information regarding the precipitation variables on the web:\n",
    "\n",
    "* precipIntensity: A numerical value representing the average expected intensity (in inches of liquid water per hour) of precipitation occurring at the given time conditional on probability (that is, assuming any precipitation occurs at all). A very rough guide is that a value of 0 in./hr. corresponds to no precipitation, 0.002 in./hr. corresponds to very light precipitation, 0.017 in./hr. corresponds to light precipitation, 0.1 in./hr. corresponds to moderate precipitation, and 0.4 in./hr. corresponds to heavy precipitation.\n",
    "* precipIntensityMax, and precipIntensityMaxTime (only defined on daily data points): numerical values representing the maximumum expected intensity of precipitation (and the UNIX time at which it occurs) on the given day in inches of liquid water per hour.\n",
    "* precipProbability: A numerical value between 0 and 1 (inclusive) representing the probability of precipitation occurring at the given time.\n",
    "* precipType: A string representing the type of precipitation occurring at the given time. If defined, this property will have one of the following values: rain, snow, or sleet (which applies to each of freezing rain, ice pellets, and “wintery mix”). (If precipIntensity is zero, then this property will not be defined.)\n",
    "* precipAccumulation (only defined on hourly and daily data points): the amount of snowfall accumulation expected to occur on the given day, in inches. (If no accumulation is expected, this property will not be defined.)\n"
   ]
  },
  {
   "cell_type": "markdown",
   "metadata": {},
   "source": [
    "What I submitted on Monday needed to be modified. I had not realized that precipAccumulation is specific to snow. Having read this additional information I ended up using variables below that give more reasonable result. Please note that PrecipTypeIsOther is always 0. Since 'PrecOther' is always zero, it will be dropped later. As the precipintensity variable is conditional on probability, probability is now included. See below:"
   ]
  },
  {
   "cell_type": "code",
   "execution_count": 18,
   "metadata": {
    "collapsed": false
   },
   "outputs": [],
   "source": [
    "dict_1 = {'Rain':'precipTypeIsRain', 'Snow':'precipTypeIsSnow', 'PrecOther':'precipTypeIsOther'}\n",
    "dfs = [data_14_cleaned, data_13_cleaned]\n",
    "\n",
    "for dataframe in dfs:\n",
    "    for key, value in dict_1.iteritems():\n",
    "        dataframe.loc[:, key] = dataframe['precipIntensity'].multiply(dataframe[value].astype('float'), axis=\"index\").multiply(dataframe['precipProbability'], axis=\"index\")"
   ]
  },
  {
   "cell_type": "markdown",
   "metadata": {},
   "source": [
    "## Deriving time-independent variables"
   ]
  },
  {
   "cell_type": "markdown",
   "metadata": {},
   "source": [
    "I derived .mean(), .std(), .min() .max(), x^2 and x^0.5 from time dependent data (some of these will be dropped below). There are several ways of removing the unnecessary information. One would be to look how each variable correlates with the yield. Pearson correlation coefficient below shows that some variables are more important than others. \n",
    "\n",
    "A different way would be to apply principal component analysis after adding new variables, reduce the dimensionality of the data set using variance.\n",
    "\n",
    "Another approach would be to remove one column at the time and see how that affects the error.\n",
    "\n",
    "After we spoke on Monday I implemented PCA to reduce the dimensionality (shown further below) but ended up not using it as this worsened the fit. To avoid overfitting with the large number of newly added variables I used regularization in fitting."
   ]
  },
  {
   "cell_type": "code",
   "execution_count": 19,
   "metadata": {
    "collapsed": false
   },
   "outputs": [
    {
     "name": "stdout",
     "output_type": "stream",
     "text": [
      "apparentTemperatureMax :      -0.466894344897\n",
      "apparentTemperatureMax :      -0.468036719797\n",
      "apparentTemperatureMax :      -0.254655203913\n",
      "apparentTemperatureMax :      0.127818348105\n",
      "apparentTemperatureMin :      -0.335642981202\n",
      "apparentTemperatureMin :      -0.324926809237\n",
      "apparentTemperatureMin :      -0.323879954493\n",
      "apparentTemperatureMin :      0.010801534761\n",
      "cloudCover :      -0.0179292284148\n",
      "cloudCover :      -0.0139500459693\n",
      "cloudCover :      -0.0359022255624\n",
      "cloudCover :      -0.0412727352852\n",
      "dewPoint :      -0.346075700898\n",
      "dewPoint :      -0.348590345635\n",
      "dewPoint :      -0.37219028366\n",
      "dewPoint :      -0.163748010785\n",
      "humidity :      -0.0893658945042\n",
      "humidity :      -0.191778872522\n",
      "humidity :      -0.0296517752322\n",
      "humidity :      0.047337505415\n",
      "precipIntensity :      -0.126317445696\n",
      "precipIntensity :      -0.091768186246\n",
      "precipIntensity :      nan\n",
      "precipIntensity :      -0.163586490472\n",
      "precipIntensityMax :      -0.144115577741\n",
      "precipIntensityMax :      -0.0494112467528\n",
      "precipIntensityMax :      nan\n",
      "precipIntensityMax :      -0.0924107823587\n",
      "precipProbability :      0.0812481720906\n",
      "precipProbability :      -0.275849517657\n",
      "precipProbability :      nan\n",
      "precipProbability :      -0.169571708524\n",
      "precipAccumulation :      0.263574900888\n",
      "precipAccumulation :      0.218195998608\n",
      "precipAccumulation :      nan\n",
      "precipAccumulation :      0.235470902104\n",
      "precipTypeIsRain :      0.0415364217831\n",
      "precipTypeIsRain :      nan\n",
      "precipTypeIsRain :      nan\n",
      "precipTypeIsRain :      0.033596628885\n",
      "precipTypeIsSnow :      0.358784843412\n",
      "precipTypeIsSnow :      0.0127750769641\n",
      "precipTypeIsSnow :      nan\n",
      "precipTypeIsSnow :      0.274058132482\n",
      "precipTypeIsOther :      nan\n",
      "precipTypeIsOther :      nan\n",
      "precipTypeIsOther :      nan\n",
      "precipTypeIsOther :      nan\n",
      "pressure :      0.382652844582\n",
      "pressure :      0.221478663162\n",
      "pressure :      -0.25228508704\n",
      "pressure :      0.14623629055\n",
      "temperatureMax :      -0.489432277911\n",
      "temperatureMax :      -0.554882802894\n",
      "temperatureMax :      -0.286956837787\n",
      "temperatureMax :      0.00585235562251\n",
      "temperatureMin :      -0.349092958577\n",
      "temperatureMin :      -0.324686065235\n",
      "temperatureMin :      -0.396324615201\n",
      "temperatureMin :      0.0794815741109\n",
      "visibility :      0.139624727273\n",
      "visibility :      nan\n",
      "visibility :      0.0539139438086\n",
      "visibility :      -0.0608092318879\n",
      "windBearing :      0.366370065455\n",
      "windBearing :      -0.231081647258\n",
      "windBearing :      0.225874209521\n",
      "windBearing :      -0.245646214145\n",
      "windSpeed :      -0.232014583236\n",
      "windSpeed :      0.00636656011868\n",
      "windSpeed :      -0.028161357101\n",
      "windSpeed :      -0.141822172456\n",
      "NDVI :      -0.535255125226\n",
      "NDVI :      -0.112715778018\n",
      "NDVI :      -0.0232604455293\n",
      "NDVI :      -0.214211702546\n",
      "DayInSeason :      -0.0548085827401\n",
      "DayInSeason :      nan\n",
      "DayInSeason :      -0.0422104059836\n",
      "DayInSeason :      0.0705805422911\n",
      "Yield :      1.0\n",
      "Yield :      1.0\n",
      "Yield :      1.0\n",
      "Yield :      nan\n",
      "Farm_label :      0.0138102764699\n",
      "Farm_label :      0.0138102764699\n",
      "Farm_label :      0.0138102764699\n",
      "Farm_label :      nan\n",
      "Snow :      0.237136340835\n",
      "Snow :      0.167689148951\n",
      "Snow :      nan\n",
      "Snow :      0.200527129669\n",
      "Rain :      -0.166897337297\n",
      "Rain :      -0.103222873383\n",
      "Rain :      nan\n",
      "Rain :      -0.168688726873\n",
      "PrecOther :      nan\n",
      "PrecOther :      nan\n",
      "PrecOther :      nan\n",
      "PrecOther :      nan\n"
     ]
    }
   ],
   "source": [
    "for i in xrange(5,data_14_cleaned.shape[1]):\n",
    "    print data_14_cleaned.columns.values[i], ':     ', np.corrcoef(data_14_cleaned.groupby(['Farm_label'])[data_14_cleaned.columns.values[i]].mean(),data_14_cleaned.groupby(['Farm_label'])['Yield'].mean())[0,1]\n",
    "    print data_14_cleaned.columns.values[i], ':     ', np.corrcoef(data_14_cleaned.groupby(['Farm_label'])[data_14_cleaned.columns.values[i]].max(),data_14_cleaned.groupby(['Farm_label'])['Yield'].mean())[0,1]\n",
    "    print data_14_cleaned.columns.values[i], ':     ', np.corrcoef(data_14_cleaned.groupby(['Farm_label'])[data_14_cleaned.columns.values[i]].min(),data_14_cleaned.groupby(['Farm_label'])['Yield'].mean())[0,1]\n",
    "    print data_14_cleaned.columns.values[i], ':     ', np.corrcoef(data_14_cleaned.groupby(['Farm_label'])[data_14_cleaned.columns.values[i]].std(),data_14_cleaned.groupby(['Farm_label'])['Yield'].mean())[0,1]"
   ]
  },
  {
   "cell_type": "markdown",
   "metadata": {},
   "source": [
    "### Add mean, std, min, max, squareroot, square"
   ]
  },
  {
   "cell_type": "markdown",
   "metadata": {},
   "source": [
    "Note that max/min/std variables are ill-defined in some cases and are skipped below. For example min amount of rain or snow is 0, max visibility is 1 etc, so these do not contain useful information and are dropped."
   ]
  },
  {
   "cell_type": "code",
   "execution_count": 20,
   "metadata": {
    "collapsed": false
   },
   "outputs": [],
   "source": [
    "# Not all the variables need mean(). max(), min(), and std(). Create lists\n",
    "var_list_mean = list(set(data_14_cleaned.columns.values) - set(['State','CountyName', 'Latitude', 'Longitude', 'Date'])) #  'These are not needed for means',\n",
    "var_list_max = list(set(var_list_mean) - set(['visibility', 'Yield'])) # not needed for max\n",
    "val_list_min = list(set(var_list_mean) - set(['Yield', 'Rain', 'Snow'])) # not needed for min\n",
    "val_list_std = list(set(var_list_mean) - set(['Yield'])) # not needed for std\n",
    "var_list_mean_sq = ['mean_' + item for item in var_list_mean]"
   ]
  },
  {
   "cell_type": "code",
   "execution_count": 21,
   "metadata": {
    "collapsed": false
   },
   "outputs": [],
   "source": [
    "df_14_reg = data_14_cleaned[var_list_mean].groupby(['Farm_label'], as_index=False).mean().add_prefix('mean_')\n",
    "df_14_reg = pd.concat([df_14_reg, data_14_cleaned[var_list_max].groupby(['Farm_label'], as_index=False).max().add_prefix('max_')], axis=1)\n",
    "df_14_reg = pd.concat([df_14_reg, data_14_cleaned[val_list_min].groupby(['Farm_label'], as_index=False).min().add_prefix('min_')], axis=1)\n",
    "df_14_reg = pd.concat([df_14_reg, data_14_cleaned[val_list_std].groupby(['Farm_label'], as_index=False).std().add_prefix('std_')], axis=1)\n",
    "df_14_reg = pd.concat([df_14_reg, df_14_reg[var_list_mean_sq].apply(lambda x: x**0.5).add_prefix('sqrt_')], axis=1)\n",
    "df_14_reg = pd.concat([df_14_reg, df_14_reg[var_list_mean_sq].apply(lambda x: x**2.0).add_prefix('sq_')], axis=1)\n",
    "\n",
    "df_14_reg.rename(columns={'mean_Yield': 'Yield'}, inplace=True)\n",
    "df_14_reg.rename(columns={'mean_Farm_label': 'Farm_label'}, inplace=True)\n",
    "df_14_reg.drop('std_Farm_label', axis=1, inplace=True)\n",
    "df_14_reg.drop('min_Farm_label', axis=1, inplace=True)\n",
    "df_14_reg.drop('max_Farm_label', axis=1, inplace=True)\n",
    "df_14_reg.drop('sq_mean_Farm_label', axis=1, inplace=True)\n",
    "df_14_reg = pd.DataFrame(df_14_reg)\n",
    "\n",
    "# Same for 2013:\n",
    "df_13_reg = data_13_cleaned[var_list_mean].groupby(['Farm_label'], as_index=False).mean().add_prefix('mean_')\n",
    "df_13_reg = pd.concat([df_13_reg, data_13_cleaned[var_list_max].groupby(['Farm_label'], as_index=False).max().add_prefix('max_')], axis=1)\n",
    "df_13_reg = pd.concat([df_13_reg, data_13_cleaned[val_list_min].groupby(['Farm_label'], as_index=False).min().add_prefix('min_')], axis=1)\n",
    "df_13_reg = pd.concat([df_13_reg, data_13_cleaned[val_list_std].groupby(['Farm_label'], as_index=False).std().add_prefix('std_')], axis=1)\n",
    "df_13_reg = pd.concat([df_13_reg, df_13_reg[var_list_mean_sq].apply(lambda x: x**0.5).add_prefix('sqrt_')], axis=1)\n",
    "df_13_reg = pd.concat([df_13_reg, df_13_reg[var_list_mean_sq].apply(lambda x: x**2.0).add_prefix('sq_')], axis=1)\n",
    "df_13_reg.rename(columns={'mean_Yield': 'Yield'}, inplace=True)\n",
    "df_13_reg.rename(columns={'mean_Farm_label': 'Farm_label'}, inplace=True)\n",
    "df_13_reg.drop('std_Farm_label', axis=1, inplace=True)\n",
    "df_13_reg.drop('min_Farm_label', axis=1, inplace=True)\n",
    "df_13_reg.drop('max_Farm_label', axis=1, inplace=True)\n",
    "df_13_reg.drop('sq_mean_Farm_label', axis=1, inplace=True)\n",
    "df_13_reg = pd.DataFrame(df_13_reg)"
   ]
  },
  {
   "cell_type": "code",
   "execution_count": 22,
   "metadata": {
    "collapsed": false
   },
   "outputs": [
    {
     "data": {
      "text/html": [
       "<div>\n",
       "<table border=\"1\" class=\"dataframe\">\n",
       "  <thead>\n",
       "    <tr style=\"text-align: right;\">\n",
       "      <th></th>\n",
       "      <th>Farm_label</th>\n",
       "      <th>mean_Snow</th>\n",
       "      <th>mean_cloudCover</th>\n",
       "      <th>mean_temperatureMin</th>\n",
       "      <th>mean_precipTypeIsRain</th>\n",
       "      <th>mean_dewPoint</th>\n",
       "      <th>mean_apparentTemperatureMax</th>\n",
       "      <th>mean_temperatureMax</th>\n",
       "      <th>mean_Rain</th>\n",
       "      <th>mean_windBearing</th>\n",
       "      <th>...</th>\n",
       "      <th>sq_mean_pressure</th>\n",
       "      <th>sq_mean_visibility</th>\n",
       "      <th>sq_mean_apparentTemperatureMin</th>\n",
       "      <th>sq_mean_NDVI</th>\n",
       "      <th>sq_mean_precipIntensityMax</th>\n",
       "      <th>sq_mean_precipTypeIsOther</th>\n",
       "      <th>sq_mean_humidity</th>\n",
       "      <th>sq_mean_windSpeed</th>\n",
       "      <th>sq_mean_precipIntensity</th>\n",
       "      <th>sq_mean_precipProbability</th>\n",
       "    </tr>\n",
       "  </thead>\n",
       "  <tbody>\n",
       "    <tr>\n",
       "      <th>0</th>\n",
       "      <td>0</td>\n",
       "      <td>0.000129</td>\n",
       "      <td>0.086183</td>\n",
       "      <td>26.829086</td>\n",
       "      <td>0.279570</td>\n",
       "      <td>23.860000</td>\n",
       "      <td>42.229247</td>\n",
       "      <td>46.313602</td>\n",
       "      <td>0.000878</td>\n",
       "      <td>237.553763</td>\n",
       "      <td>...</td>\n",
       "      <td>1.037826e+06</td>\n",
       "      <td>86.106426</td>\n",
       "      <td>356.131686</td>\n",
       "      <td>18862.278155</td>\n",
       "      <td>0.000113</td>\n",
       "      <td>0.0</td>\n",
       "      <td>0.408500</td>\n",
       "      <td>52.593687</td>\n",
       "      <td>0.000002</td>\n",
       "      <td>0.039507</td>\n",
       "    </tr>\n",
       "    <tr>\n",
       "      <th>1</th>\n",
       "      <td>1</td>\n",
       "      <td>0.000048</td>\n",
       "      <td>0.161882</td>\n",
       "      <td>38.699785</td>\n",
       "      <td>0.295699</td>\n",
       "      <td>34.699624</td>\n",
       "      <td>59.455323</td>\n",
       "      <td>61.145753</td>\n",
       "      <td>0.001677</td>\n",
       "      <td>168.279570</td>\n",
       "      <td>...</td>\n",
       "      <td>1.035223e+06</td>\n",
       "      <td>83.017571</td>\n",
       "      <td>1126.587570</td>\n",
       "      <td>21587.337960</td>\n",
       "      <td>0.000268</td>\n",
       "      <td>0.0</td>\n",
       "      <td>0.395343</td>\n",
       "      <td>66.097774</td>\n",
       "      <td>0.000005</td>\n",
       "      <td>0.031995</td>\n",
       "    </tr>\n",
       "    <tr>\n",
       "      <th>2</th>\n",
       "      <td>2</td>\n",
       "      <td>0.000024</td>\n",
       "      <td>0.084162</td>\n",
       "      <td>48.501027</td>\n",
       "      <td>0.416216</td>\n",
       "      <td>47.568973</td>\n",
       "      <td>65.722378</td>\n",
       "      <td>66.210486</td>\n",
       "      <td>0.003239</td>\n",
       "      <td>172.383784</td>\n",
       "      <td>...</td>\n",
       "      <td>1.037796e+06</td>\n",
       "      <td>76.317696</td>\n",
       "      <td>2039.352368</td>\n",
       "      <td>21789.177631</td>\n",
       "      <td>0.001749</td>\n",
       "      <td>0.0</td>\n",
       "      <td>0.569576</td>\n",
       "      <td>58.526635</td>\n",
       "      <td>0.000015</td>\n",
       "      <td>0.062608</td>\n",
       "    </tr>\n",
       "    <tr>\n",
       "      <th>3</th>\n",
       "      <td>3</td>\n",
       "      <td>0.000074</td>\n",
       "      <td>0.058548</td>\n",
       "      <td>37.123387</td>\n",
       "      <td>0.387097</td>\n",
       "      <td>35.653118</td>\n",
       "      <td>52.366667</td>\n",
       "      <td>54.763763</td>\n",
       "      <td>0.002330</td>\n",
       "      <td>168.155914</td>\n",
       "      <td>...</td>\n",
       "      <td>1.040245e+06</td>\n",
       "      <td>81.177194</td>\n",
       "      <td>1010.904931</td>\n",
       "      <td>20625.938736</td>\n",
       "      <td>0.000530</td>\n",
       "      <td>0.0</td>\n",
       "      <td>0.500366</td>\n",
       "      <td>54.674893</td>\n",
       "      <td>0.000010</td>\n",
       "      <td>0.064369</td>\n",
       "    </tr>\n",
       "    <tr>\n",
       "      <th>4</th>\n",
       "      <td>4</td>\n",
       "      <td>0.000215</td>\n",
       "      <td>0.087634</td>\n",
       "      <td>34.261183</td>\n",
       "      <td>0.290323</td>\n",
       "      <td>29.502204</td>\n",
       "      <td>56.467581</td>\n",
       "      <td>58.595538</td>\n",
       "      <td>0.001386</td>\n",
       "      <td>194.048387</td>\n",
       "      <td>...</td>\n",
       "      <td>1.033722e+06</td>\n",
       "      <td>88.205423</td>\n",
       "      <td>762.131013</td>\n",
       "      <td>22172.912485</td>\n",
       "      <td>0.000192</td>\n",
       "      <td>0.0</td>\n",
       "      <td>0.349370</td>\n",
       "      <td>58.078330</td>\n",
       "      <td>0.000004</td>\n",
       "      <td>0.039059</td>\n",
       "    </tr>\n",
       "  </tbody>\n",
       "</table>\n",
       "<p>5 rows × 140 columns</p>\n",
       "</div>"
      ],
      "text/plain": [
       "   Farm_label  mean_Snow  mean_cloudCover  mean_temperatureMin  \\\n",
       "0           0   0.000129         0.086183            26.829086   \n",
       "1           1   0.000048         0.161882            38.699785   \n",
       "2           2   0.000024         0.084162            48.501027   \n",
       "3           3   0.000074         0.058548            37.123387   \n",
       "4           4   0.000215         0.087634            34.261183   \n",
       "\n",
       "   mean_precipTypeIsRain  mean_dewPoint  mean_apparentTemperatureMax  \\\n",
       "0               0.279570      23.860000                    42.229247   \n",
       "1               0.295699      34.699624                    59.455323   \n",
       "2               0.416216      47.568973                    65.722378   \n",
       "3               0.387097      35.653118                    52.366667   \n",
       "4               0.290323      29.502204                    56.467581   \n",
       "\n",
       "   mean_temperatureMax  mean_Rain  mean_windBearing  \\\n",
       "0            46.313602   0.000878        237.553763   \n",
       "1            61.145753   0.001677        168.279570   \n",
       "2            66.210486   0.003239        172.383784   \n",
       "3            54.763763   0.002330        168.155914   \n",
       "4            58.595538   0.001386        194.048387   \n",
       "\n",
       "             ...              sq_mean_pressure  sq_mean_visibility  \\\n",
       "0            ...                  1.037826e+06           86.106426   \n",
       "1            ...                  1.035223e+06           83.017571   \n",
       "2            ...                  1.037796e+06           76.317696   \n",
       "3            ...                  1.040245e+06           81.177194   \n",
       "4            ...                  1.033722e+06           88.205423   \n",
       "\n",
       "   sq_mean_apparentTemperatureMin  sq_mean_NDVI  sq_mean_precipIntensityMax  \\\n",
       "0                      356.131686  18862.278155                    0.000113   \n",
       "1                     1126.587570  21587.337960                    0.000268   \n",
       "2                     2039.352368  21789.177631                    0.001749   \n",
       "3                     1010.904931  20625.938736                    0.000530   \n",
       "4                      762.131013  22172.912485                    0.000192   \n",
       "\n",
       "   sq_mean_precipTypeIsOther  sq_mean_humidity  sq_mean_windSpeed  \\\n",
       "0                        0.0          0.408500          52.593687   \n",
       "1                        0.0          0.395343          66.097774   \n",
       "2                        0.0          0.569576          58.526635   \n",
       "3                        0.0          0.500366          54.674893   \n",
       "4                        0.0          0.349370          58.078330   \n",
       "\n",
       "   sq_mean_precipIntensity  sq_mean_precipProbability  \n",
       "0                 0.000002                   0.039507  \n",
       "1                 0.000005                   0.031995  \n",
       "2                 0.000015                   0.062608  \n",
       "3                 0.000010                   0.064369  \n",
       "4                 0.000004                   0.039059  \n",
       "\n",
       "[5 rows x 140 columns]"
      ]
     },
     "execution_count": 22,
     "metadata": {},
     "output_type": "execute_result"
    }
   ],
   "source": [
    "df_14_reg.head()"
   ]
  },
  {
   "cell_type": "markdown",
   "metadata": {},
   "source": [
    "## Derived variables"
   ]
  },
  {
   "cell_type": "markdown",
   "metadata": {},
   "source": [
    "I also added two variables derived from the original ones to represent 1) the day in season of the last frost and 2) drought, as a number of zero-precipitation days. "
   ]
  },
  {
   "cell_type": "markdown",
   "metadata": {},
   "source": [
    "### Last frost"
   ]
  },
  {
   "cell_type": "markdown",
   "metadata": {},
   "source": [
    "The idea here is that frost late in season will probably affect the crop more than earlier when the crop has not sprouted yet. I derive a new variable below that looks at the last day in season for each farm that a temperature below 32F has been observed."
   ]
  },
  {
   "cell_type": "code",
   "execution_count": 23,
   "metadata": {
    "collapsed": false
   },
   "outputs": [],
   "source": [
    "df2 = data_14_cleaned[data_14_cleaned['apparentTemperatureMin'] < 32].groupby(['Farm_label'], as_index=False)['DayInSeason'].last()\n",
    "df2 = pd.DataFrame(df2)\n",
    "df2=df2.rename(columns = {'DayInSeason':'LastFrost'})\n",
    "df_14_reg = pd.merge(df_14_reg,df2,on='Farm_label')"
   ]
  },
  {
   "cell_type": "code",
   "execution_count": 24,
   "metadata": {
    "collapsed": false
   },
   "outputs": [
    {
     "data": {
      "text/html": [
       "<div>\n",
       "<table border=\"1\" class=\"dataframe\">\n",
       "  <thead>\n",
       "    <tr style=\"text-align: right;\">\n",
       "      <th></th>\n",
       "      <th>Farm_label</th>\n",
       "      <th>LastFrost</th>\n",
       "    </tr>\n",
       "  </thead>\n",
       "  <tbody>\n",
       "    <tr>\n",
       "      <th>0</th>\n",
       "      <td>0</td>\n",
       "      <td>172</td>\n",
       "    </tr>\n",
       "    <tr>\n",
       "      <th>1</th>\n",
       "      <td>1</td>\n",
       "      <td>131</td>\n",
       "    </tr>\n",
       "    <tr>\n",
       "      <th>2</th>\n",
       "      <td>2</td>\n",
       "      <td>97</td>\n",
       "    </tr>\n",
       "    <tr>\n",
       "      <th>3</th>\n",
       "      <td>3</td>\n",
       "      <td>125</td>\n",
       "    </tr>\n",
       "    <tr>\n",
       "      <th>4</th>\n",
       "      <td>4</td>\n",
       "      <td>162</td>\n",
       "    </tr>\n",
       "  </tbody>\n",
       "</table>\n",
       "</div>"
      ],
      "text/plain": [
       "   Farm_label  LastFrost\n",
       "0           0        172\n",
       "1           1        131\n",
       "2           2         97\n",
       "3           3        125\n",
       "4           4        162"
      ]
     },
     "execution_count": 24,
     "metadata": {},
     "output_type": "execute_result"
    }
   ],
   "source": [
    "# Example how this variable looks\n",
    "df2.head()"
   ]
  },
  {
   "cell_type": "code",
   "execution_count": 25,
   "metadata": {
    "collapsed": false
   },
   "outputs": [],
   "source": [
    "# Same for 2013:\n",
    "df2_13 = data_13_cleaned[data_13_cleaned['apparentTemperatureMin'] < 32].groupby(['Farm_label'], as_index=False)['DayInSeason'].last()\n",
    "df2_13 = pd.DataFrame(df2_13)\n",
    "df2_13=df2_13.rename(columns = {'DayInSeason':'LastFrost'})\n",
    "df_13_reg = pd.merge(df_13_reg,df2_13,on='Farm_label')"
   ]
  },
  {
   "cell_type": "markdown",
   "metadata": {},
   "source": [
    "### Drought"
   ]
  },
  {
   "cell_type": "markdown",
   "metadata": {},
   "source": [
    "I added another variable that is a rough measure of 'drought'. I ended up counting the number of days in season that total precipitation (rain + snow) was zero."
   ]
  },
  {
   "cell_type": "code",
   "execution_count": 26,
   "metadata": {
    "collapsed": false
   },
   "outputs": [],
   "source": [
    "data_14_cleaned.loc[:,'Prec'] = data_14_cleaned['Rain'] + data_14_cleaned['Snow']\n",
    "df3 = data_14_cleaned[data_14_cleaned['Prec'] == 0.0].groupby(['Farm_label'], as_index=False)['Prec'].count()\n",
    "df3 = pd.DataFrame(df3)\n",
    "df3=df3.rename(columns = {'Prec':'Drought_len'})\n",
    "df_14_reg = pd.merge(df_14_reg,df3,on='Farm_label')"
   ]
  },
  {
   "cell_type": "code",
   "execution_count": 27,
   "metadata": {
    "collapsed": false
   },
   "outputs": [
    {
     "data": {
      "text/html": [
       "<div>\n",
       "<table border=\"1\" class=\"dataframe\">\n",
       "  <thead>\n",
       "    <tr style=\"text-align: right;\">\n",
       "      <th></th>\n",
       "      <th>Farm_label</th>\n",
       "      <th>Drought_len</th>\n",
       "    </tr>\n",
       "  </thead>\n",
       "  <tbody>\n",
       "    <tr>\n",
       "      <th>0</th>\n",
       "      <td>0</td>\n",
       "      <td>101</td>\n",
       "    </tr>\n",
       "    <tr>\n",
       "      <th>1</th>\n",
       "      <td>1</td>\n",
       "      <td>121</td>\n",
       "    </tr>\n",
       "    <tr>\n",
       "      <th>2</th>\n",
       "      <td>2</td>\n",
       "      <td>103</td>\n",
       "    </tr>\n",
       "    <tr>\n",
       "      <th>3</th>\n",
       "      <td>3</td>\n",
       "      <td>101</td>\n",
       "    </tr>\n",
       "    <tr>\n",
       "      <th>4</th>\n",
       "      <td>4</td>\n",
       "      <td>112</td>\n",
       "    </tr>\n",
       "  </tbody>\n",
       "</table>\n",
       "</div>"
      ],
      "text/plain": [
       "   Farm_label  Drought_len\n",
       "0           0          101\n",
       "1           1          121\n",
       "2           2          103\n",
       "3           3          101\n",
       "4           4          112"
      ]
     },
     "execution_count": 27,
     "metadata": {},
     "output_type": "execute_result"
    }
   ],
   "source": [
    "# Example how this variable looks\n",
    "df3.head()"
   ]
  },
  {
   "cell_type": "code",
   "execution_count": 28,
   "metadata": {
    "collapsed": false
   },
   "outputs": [],
   "source": [
    "# Same for 2013:\n",
    "data_13_cleaned.loc[:,'Prec'] = data_13_cleaned['Rain'] + data_13_cleaned['Snow']\n",
    "df3_13 = data_13_cleaned[data_13_cleaned['Prec'] == 0.0].groupby(['Farm_label'], as_index=False)['Prec'].count()\n",
    "df3_13 = pd.DataFrame(df3_13)\n",
    "df3_13=df3_13.rename(columns = {'Prec':'Drought_len'})\n",
    "df_13_reg = pd.merge(df_13_reg,df3_13,on='Farm_label')"
   ]
  },
  {
   "cell_type": "markdown",
   "metadata": {},
   "source": [
    "# Reduce the dimensionality"
   ]
  },
  {
   "cell_type": "markdown",
   "metadata": {},
   "source": [
    "Here is the implementation of PCA. I ended up not using it in the fit, see below."
   ]
  },
  {
   "cell_type": "code",
   "execution_count": 30,
   "metadata": {
    "collapsed": false
   },
   "outputs": [],
   "source": [
    "# Normalize the variables\n",
    "df_14_reg.iloc[:,2:] = df_14_reg.iloc[:,2:].apply(lambda x: (x - x.mean())/x.std(), axis=1)"
   ]
  },
  {
   "cell_type": "code",
   "execution_count": 31,
   "metadata": {
    "collapsed": false
   },
   "outputs": [
    {
     "name": "stdout",
     "output_type": "stream",
     "text": [
      "[  9.66058957e-01   2.21570142e-02   7.15129498e-03   2.48182388e-03\n",
      "   1.54130534e-03   5.09367040e-04   4.70449937e-05   3.62793656e-05\n",
      "   8.29080263e-06   2.58323545e-06]\n"
     ]
    }
   ],
   "source": [
    "# Here the number of components to keep is set to 10 and the explained variance is printed below\n",
    "from sklearn.decomposition import PCA\n",
    "model = PCA(n_components = 10)\n",
    "model.fit(df_14_reg.iloc[:,2:])\n",
    "X_transformed = model.fit_transform(df_14_reg.iloc[:,2:])\n",
    "pca_score = model.explained_variance_ratio_\n",
    "print pca_score"
   ]
  },
  {
   "cell_type": "code",
   "execution_count": 32,
   "metadata": {
    "collapsed": false
   },
   "outputs": [
    {
     "name": "stdout",
     "output_type": "stream",
     "text": [
      "(982, 140)\n",
      "(982, 10)\n"
     ]
    }
   ],
   "source": [
    "print df_14_reg.iloc[:,2:].shape\n",
    "print X_transformed.shape"
   ]
  },
  {
   "cell_type": "code",
   "execution_count": 33,
   "metadata": {
    "collapsed": true
   },
   "outputs": [],
   "source": [
    "# If the reduced-dimensionality data is to be used for fitting, yield has to be added back to the matrix\n",
    "\n",
    "yld = df_14_reg.iloc[:,1][:,None]\n",
    "dft = pd.DataFrame(np.hstack([X_transformed, yld]))  \n",
    "dft=dft.rename(columns = {dft.shape[1]-1:'Yield'})"
   ]
  },
  {
   "cell_type": "markdown",
   "metadata": {},
   "source": [
    "I ended up not using the reduced-dimensionality data for fitting as the error of the prediction increased after the reduction (I tried several values for the number of components to keep). The dimensionality of the data is not a problem in this case as the computation does not take long (this whole notebook can be executed in a few minutes). The dimensionality of the data is not a problem for overfitting here as I used regularization in fitting."
   ]
  },
  {
   "cell_type": "markdown",
   "metadata": {},
   "source": [
    "# Fitting"
   ]
  },
  {
   "cell_type": "markdown",
   "metadata": {},
   "source": [
    "The code below calls the fitting function. I tried several estimators: regularized linear regression (ridge, lasso) and support vector regression. In each case ten splits of data 80/20 are made. 80% is used for fitting and 20% for estimating the errors. The mean error and standard deviation are then calculated from ten values. This is all repeated several times to find the optimal value of the regularization parameter.\n",
    "\n",
    "Ridge and lasso ended up giving similar result so I will continue with Ridge regression. SVR had worse performance (with gaussian kernel) or failed to converge in reasonable time (polynomial kernel)."
   ]
  },
  {
   "cell_type": "code",
   "execution_count": 31,
   "metadata": {
    "collapsed": false
   },
   "outputs": [
    {
     "data": {
      "image/png": "[encoded data removed]",
      "text/plain": [
       "<matplotlib.figure.Figure at 0x100635d10>"
      ]
     },
     "metadata": {},
     "output_type": "display_data"
    }
   ],
   "source": [
    "n_splits = 10\n",
    "err_mean_al = np.zeros([1, 21])\n",
    "err_std_al = np.zeros([1, 21])\n",
    "err = np.zeros([1, n_splits])\n",
    "alvc =  np.linspace(-15,2, 21) # to be used as exponents for the regularization parameter\n",
    "cou = 0\n",
    "for alval in alvc:\n",
    "    for i in xrange(n_splits):\n",
    "        d_train, d_test = train_test_split(df_14_reg, test_size = 0.2) # use for non-reduced data\n",
    "        #d_train, d_test = train_test_split(dft, test_size = 0.2) # use for PCA-reduced data\n",
    "        err[0,i] = fit_model_0(d_train, d_test, 10.0**alval)\n",
    "    err_mean_al[0,cou] = np.mean(err,1)\n",
    "    err_std_al[0,cou] = np.std(err,1)\n",
    "    cou = cou + 1\n",
    "plt.errorbar(alvc, err_mean_al[0],yerr=err_std_al[0]);\n",
    "plt.ylabel('Average Error of Predicted Yield');\n",
    "plt.xlabel('Model parameter log_10(alpha)');"
   ]
  },
  {
   "cell_type": "code",
   "execution_count": 32,
   "metadata": {
    "collapsed": false
   },
   "outputs": [
    {
     "data": {
      "text/plain": [
       "array([ 0.15602342,  0.15142306,  0.29937438,  0.15289166,  0.15273187,\n",
       "        0.15236549,  0.17445711,  0.18156389,  0.14799712,  0.14241298,\n",
       "        0.23926298,  0.15001739,  0.13695342,  0.1403972 ,  0.13910365,\n",
       "        0.14466303,  0.14818319,  0.16351889,  0.19079823,  0.51181491,\n",
       "        1.27413396])"
      ]
     },
     "execution_count": 32,
     "metadata": {},
     "output_type": "execute_result"
    }
   ],
   "source": [
    "err_mean_al[0]"
   ]
  },
  {
   "cell_type": "markdown",
   "metadata": {},
   "source": [
    "The plot above is used to determine the regularization parameter (alpha). When alpha falls to <10^-5 the error does not change much, so I ended up using 10^-5 for alpha."
   ]
  },
  {
   "cell_type": "markdown",
   "metadata": {},
   "source": [
    "Below is the fitting function:"
   ]
  },
  {
   "cell_type": "code",
   "execution_count": 29,
   "metadata": {
    "collapsed": true
   },
   "outputs": [],
   "source": [
    "# Ridge\n",
    "def fit_model_0(train_data_vec, cv_data_vec, al_val):\n",
    "    \n",
    "    y_vals = train_data_vec['Yield'] # train data set\n",
    "    x_vals = train_data_vec.drop('Yield', 1)\n",
    "    \n",
    "    y_vals_cv = cv_data_vec['Yield'] # cross-validation data set\n",
    "    x_vals_cv = cv_data_vec.drop('Yield', 1)\n",
    "    \n",
    "    est = Ridge(alpha=al_val,normalize=False, solver = 'auto')\n",
    "    \n",
    "    est.fit(x_vals, y_vals)\n",
    "    \n",
    "    cv_error = np.sqrt(np.sum((y_vals_cv - est.predict(x_vals_cv))**2)/len(y_vals_cv))\n",
    "    \n",
    "    return cv_error # use this line when returning average error\n",
    "    #return y_vals_cv - est.predict(x_vals_cv) # use this line when checking errors - returns array"
   ]
  },
  {
   "cell_type": "code",
   "execution_count": 36,
   "metadata": {
    "collapsed": false
   },
   "outputs": [],
   "source": [
    "# Lasso\n",
    "def fit_model_1(train_data_vec, cv_data_vec, al_val):\n",
    "    \n",
    "    y_vals = train_data_vec['Yield'] # train data set\n",
    "    x_vals = train_data_vec.drop('Yield', 1)\n",
    "    \n",
    "    y_vals_cv = cv_data_vec['Yield'] # cross-validation data set\n",
    "    x_vals_cv = cv_data_vec.drop('Yield', 1)\n",
    "    \n",
    "    est = Lasso(alpha=al_val)\n",
    "    \n",
    "    est.fit(x_vals, y_vals)\n",
    "    \n",
    "    cv_error = np.sqrt(np.sum((y_vals_cv - est.predict(x_vals_cv))**2)/len(y_vals_cv))\n",
    "\n",
    "    return cv_error"
   ]
  },
  {
   "cell_type": "code",
   "execution_count": 37,
   "metadata": {
    "collapsed": true
   },
   "outputs": [],
   "source": [
    "from sklearn.svm import SVR\n",
    "def fit_model_2(train_data_vec, cv_data_vec, al_val):\n",
    "    \n",
    "    y_vals = train_data_vec['Yield'] # train data set\n",
    "    x_vals = train_data_vec.drop('Yield', 1)\n",
    "    \n",
    "    y_vals_cv = cv_data_vec['Yield'] # cross-validation data set\n",
    "    x_vals_cv = cv_data_vec.drop('Yield', 1)\n",
    "    \n",
    "    est =  SVR(kernel='rbf', C=1.0/al_val, gamma=0.1)\n",
    "    #est =  SVR(kernel='poly', C=1.0/al_val, degree=2,  max_iter = 1000,cache_size=200) # too slow, does not converge if i limit n of iterations!\n",
    "    #est =  SVR(kernel='linear', C=1.0/al_val)\n",
    "   \n",
    "    est.fit(x_vals, y_vals)\n",
    "    \n",
    "    cv_error = np.sqrt(np.sum((y_vals_cv - est.predict(x_vals_cv))**2)/len(y_vals_cv))\n",
    "\n",
    "    return cv_error\n"
   ]
  },
  {
   "cell_type": "markdown",
   "metadata": {},
   "source": [
    "## Fit all data"
   ]
  },
  {
   "cell_type": "markdown",
   "metadata": {},
   "source": [
    "Now that the fitting method has been selected (Ridge regression) and its parameters evaluated on the 2014 data, we can try to predict the yield of 2013 and evaulate error there:"
   ]
  },
  {
   "cell_type": "code",
   "execution_count": 33,
   "metadata": {
    "collapsed": false
   },
   "outputs": [
    {
     "name": "stdout",
     "output_type": "stream",
     "text": [
      "0.671607284866\n"
     ]
    }
   ],
   "source": [
    "err_13 = fit_model_0(df_14_reg, df_13_reg, 10.0**(-5.0))\n",
    "print err_13"
   ]
  },
  {
   "cell_type": "code",
   "execution_count": 34,
   "metadata": {
    "collapsed": false
   },
   "outputs": [
    {
     "name": "stdout",
     "output_type": "stream",
     "text": [
      "0.00413839605546\n",
      "0.0213682446261\n"
     ]
    }
   ],
   "source": [
    "# In terms of relative errors:\n",
    "print 0.14/df_14_reg['Yield'].mean()\n",
    "print 0.671607284866/df_13_reg['Yield'].mean()"
   ]
  },
  {
   "cell_type": "markdown",
   "metadata": {},
   "source": [
    "The average error of the yield prediction for 2013 data (~2%) is somewhat worse than the average error of the yield prediction of the original 2014 data (~0.4%), but overall both errors are pretty small."
   ]
  },
  {
   "cell_type": "markdown",
   "metadata": {},
   "source": [
    "# Error Checks"
   ]
  },
  {
   "cell_type": "markdown",
   "metadata": {},
   "source": [
    "The longitude/latitude pairs roughly fall into two clusters:"
   ]
  },
  {
   "cell_type": "code",
   "execution_count": 527,
   "metadata": {
    "collapsed": false
   },
   "outputs": [
    {
     "data": {
      "image/png": "[encoded data removed]",
      "text/plain": [
       "<matplotlib.figure.Figure at 0x1169787d0>"
      ]
     },
     "metadata": {},
     "output_type": "display_data"
    }
   ],
   "source": [
    "plt.scatter(data_13_cleaned['Latitude'],data_13_cleaned['Longitude'], s=0.1);\n",
    "plt.xlabel('Latitude');\n",
    "plt.ylabel('Longitude');\n",
    "plt.title('Farms');"
   ]
  },
  {
   "cell_type": "markdown",
   "metadata": {},
   "source": [
    "...so it makes sense to check if the error depends on which of the two clusters the farm is in. The reasoning behind is that some variable that is not in the data set differs between the two clusters and affects the yield. An example could be soil type: the two clusters could have different soild type and thus the yield can differ even if all the meteorological conditions are the same. To check for this I extracted the errors and plotted them vs. the latitude and longitude."
   ]
  },
  {
   "cell_type": "code",
   "execution_count": 45,
   "metadata": {
    "collapsed": false
   },
   "outputs": [],
   "source": [
    "df_13_reg_n = df_13_reg[['Farm_label', 'Yield']].join(pd.DataFrame(err_13).rename(columns={'Yield':'Error'}))"
   ]
  },
  {
   "cell_type": "code",
   "execution_count": 46,
   "metadata": {
    "collapsed": false
   },
   "outputs": [],
   "source": [
    "df_13_reg = pd.merge(df_13_reg_n,pd.DataFrame(data_13_cleaned.groupby('Farm_label', as_index=False)[['Latitude', 'Longitude']].mean()),on='Farm_label')"
   ]
  },
  {
   "cell_type": "code",
   "execution_count": 47,
   "metadata": {
    "collapsed": false
   },
   "outputs": [
    {
     "data": {
      "text/html": [
       "<div>\n",
       "<table border=\"1\" class=\"dataframe\">\n",
       "  <thead>\n",
       "    <tr style=\"text-align: right;\">\n",
       "      <th></th>\n",
       "      <th>Farm_label</th>\n",
       "      <th>Yield</th>\n",
       "      <th>Error</th>\n",
       "      <th>Latitude</th>\n",
       "      <th>Longitude</th>\n",
       "    </tr>\n",
       "  </thead>\n",
       "  <tbody>\n",
       "    <tr>\n",
       "      <th>0</th>\n",
       "      <td>0</td>\n",
       "      <td>37.8</td>\n",
       "      <td>-5.497212</td>\n",
       "      <td>46.952255</td>\n",
       "      <td>-109.607089</td>\n",
       "    </tr>\n",
       "    <tr>\n",
       "      <th>1</th>\n",
       "      <td>1</td>\n",
       "      <td>11.6</td>\n",
       "      <td>4.423637</td>\n",
       "      <td>34.903443</td>\n",
       "      <td>-100.547512</td>\n",
       "    </tr>\n",
       "    <tr>\n",
       "      <th>2</th>\n",
       "      <td>2</td>\n",
       "      <td>27.0</td>\n",
       "      <td>-0.666137</td>\n",
       "      <td>31.625788</td>\n",
       "      <td>-98.068643</td>\n",
       "    </tr>\n",
       "    <tr>\n",
       "      <th>3</th>\n",
       "      <td>3</td>\n",
       "      <td>44.9</td>\n",
       "      <td>-2.402827</td>\n",
       "      <td>38.076523</td>\n",
       "      <td>-94.783636</td>\n",
       "    </tr>\n",
       "    <tr>\n",
       "      <th>4</th>\n",
       "      <td>4</td>\n",
       "      <td>17.7</td>\n",
       "      <td>2.760539</td>\n",
       "      <td>36.810364</td>\n",
       "      <td>-102.173551</td>\n",
       "    </tr>\n",
       "  </tbody>\n",
       "</table>\n",
       "</div>"
      ],
      "text/plain": [
       "   Farm_label  Yield     Error   Latitude   Longitude\n",
       "0           0   37.8 -5.497212  46.952255 -109.607089\n",
       "1           1   11.6  4.423637  34.903443 -100.547512\n",
       "2           2   27.0 -0.666137  31.625788  -98.068643\n",
       "3           3   44.9 -2.402827  38.076523  -94.783636\n",
       "4           4   17.7  2.760539  36.810364 -102.173551"
      ]
     },
     "execution_count": 47,
     "metadata": {},
     "output_type": "execute_result"
    }
   ],
   "source": [
    "# Here is how this DataFrame looks:\n",
    "df_13_reg.head()"
   ]
  },
  {
   "cell_type": "code",
   "execution_count": 48,
   "metadata": {
    "collapsed": false
   },
   "outputs": [
    {
     "data": {
      "image/png": "[encoded data removed]",
      "text/plain": [
       "<matplotlib.figure.Figure at 0x1097b4d10>"
      ]
     },
     "metadata": {},
     "output_type": "display_data"
    },
    {
     "data": {
      "image/png": "[encoded data removed]",
      "text/plain": [
       "<matplotlib.figure.Figure at 0x10957c050>"
      ]
     },
     "metadata": {},
     "output_type": "display_data"
    }
   ],
   "source": [
    "from mpl_toolkits.mplot3d import Axes3D\n",
    "fig = plt.figure(figsize = [20,5])\n",
    "ax = fig.add_subplot(111, projection='3d')\n",
    "ax.scatter(np.array(df_13_reg['Latitude']), np.array(df_13_reg['Longitude']), np.array(df_13_reg['Error']), zdir='z', s=2, c='b', depthshade=True)\n",
    "ax.view_init(elev=0., azim=0)\n",
    "plt.xlabel('Latitude')\n",
    "plt.ylabel('Longitude')\n",
    "plt.title('Error of the estimate - spatially resolved')\n",
    "plt.show()\n",
    "fig = plt.figure(figsize = [20,5])\n",
    "ax = fig.add_subplot(111, projection='3d')\n",
    "ax.scatter(np.array(df_13_reg['Latitude']), np.array(df_13_reg['Longitude']), np.array(df_13_reg['Error']), zdir='z', s=2, c='b', depthshade=True)\n",
    "ax.view_init(elev=0., azim=90)\n",
    "plt.xlabel('Latitude')\n",
    "plt.ylabel('Longitude')\n",
    "plt.show()"
   ]
  },
  {
   "cell_type": "markdown",
   "metadata": {},
   "source": [
    "The error of the estimate shows slight spatial dependence. This could imply that some parameter that varies spatially is not in the data set. This could be, for example soil quality. One way to improve the fit would be to split the data into two clusters based on the latitude and longitude and fit these separately. This is a potential furure direction."
   ]
  },
  {
   "cell_type": "code",
   "execution_count": null,
   "metadata": {
    "collapsed": true
   },
   "outputs": [],
   "source": []
  }
 ],
 "metadata": {
  "kernelspec": {
   "display_name": "Python 2",
   "language": "python",
   "name": "python2"
  },
  "language_info": {
   "codemirror_mode": {
    "name": "ipython",
    "version": 2
   },
   "file_extension": ".py",
   "mimetype": "text/x-python",
   "name": "python",
   "nbconvert_exporter": "python",
   "pygments_lexer": "ipython2",
   "version": "2.7.11"
  }
 },
 "nbformat": 4,
 "nbformat_minor": 0
}
